{
  "cells": [
    {
      "cell_type": "code",
      "execution_count": 263,
      "id": "149938de",
      "metadata": {
        "id": "149938de"
      },
      "outputs": [],
      "source": [
        "import numpy as np\n",
        "import tensorflow as tf\n",
        "from tensorflow import keras\n",
        "from tensorflow.keras import layers\n",
        "import matplotlib.pyplot as plt\n",
        "import scipy as cp\n",
        "from scipy.special import logsumexp, softmax"
      ]
    },
    {
      "cell_type": "code",
      "execution_count": 264,
      "id": "773c1396",
      "metadata": {
        "colab": {
          "base_uri": "https://localhost:8080/",
          "height": 465
        },
        "id": "773c1396",
        "outputId": "e15c2005-8068-4f1e-8fcd-ad653c688747"
      },
      "outputs": [
        {
          "output_type": "stream",
          "name": "stdout",
          "text": [
            "5\n"
          ]
        },
        {
          "output_type": "execute_result",
          "data": {
            "text/plain": [
              "<matplotlib.image.AxesImage at 0x7dbb09adb310>"
            ]
          },
          "metadata": {},
          "execution_count": 264
        },
        {
          "output_type": "display_data",
          "data": {
            "text/plain": [
              "<Figure size 640x480 with 1 Axes>"
            ],
            "image/png": "[encoded data removed]"
          },
          "metadata": {}
        }
      ],
      "source": [
        "train_data, test_data = tf.keras.datasets.mnist.load_data(path=\"mnist.npz\")\n",
        "x_train = train_data[0].reshape(-1,784).astype(float) / 255\n",
        "y_train = train_data[1]\n",
        "\n",
        "x_test = test_data[0].reshape(-1,784).astype(float) / 255\n",
        "y_test = test_data[1]\n",
        "\n",
        "print(y_train[0])\n",
        "plt.imshow(train_data[0][0], cmap='gray')"
      ]
    },
    {
      "cell_type": "code",
      "source": [
        "plt.imshow(x_train[3,:].reshape(28,28), cmap='gray')"
      ],
      "metadata": {
        "colab": {
          "base_uri": "https://localhost:8080/",
          "height": 447
        },
        "id": "7b3plDgQC39C",
        "outputId": "55abb76a-5ea1-4496-91a4-6a0021cdd994"
      },
      "id": "7b3plDgQC39C",
      "execution_count": 265,
      "outputs": [
        {
          "output_type": "execute_result",
          "data": {
            "text/plain": [
              "<matplotlib.image.AxesImage at 0x7dbb09948a60>"
            ]
          },
          "metadata": {},
          "execution_count": 265
        },
        {
          "output_type": "display_data",
          "data": {
            "text/plain": [
              "<Figure size 640x480 with 1 Axes>"
            ],
            "image/png": "[encoded data removed]"
          },
          "metadata": {}
        }
      ]
    },
    {
      "cell_type": "code",
      "execution_count": 266,
      "id": "4b521b78",
      "metadata": {
        "colab": {
          "base_uri": "https://localhost:8080/"
        },
        "id": "4b521b78",
        "outputId": "6b12731f-7ba6-4216-a725-e3dde0c87c49"
      },
      "outputs": [
        {
          "output_type": "stream",
          "name": "stdout",
          "text": [
            "Model: \"mnist_model\"\n",
            "_________________________________________________________________\n",
            " Layer (type)                Output Shape              Param #   \n",
            "=================================================================\n",
            " digits (InputLayer)         [(None, 784)]             0         \n",
            "                                                                 \n",
            " dense_1 (Dense)             (None, 32)                25120     \n",
            "                                                                 \n",
            " dense_2 (Dense)             (None, 32)                1056      \n",
            "                                                                 \n",
            " predictions (Dense)         (None, 10)                330       \n",
            "                                                                 \n",
            "=================================================================\n",
            "Total params: 26506 (103.54 KB)\n",
            "Trainable params: 26506 (103.54 KB)\n",
            "Non-trainable params: 0 (0.00 Byte)\n",
            "_________________________________________________________________\n"
          ]
        }
      ],
      "source": [
        "# source: https://keras.io/guides/training_with_built_in_methods/\n",
        "\n",
        "inputs = keras.Input(shape=(784,), name=\"digits\")\n",
        "x = layers.Dense(32, activation=\"relu\", name=\"dense_1\")(inputs)\n",
        "x = layers.Dense(32, activation=\"relu\", name=\"dense_2\")(x)\n",
        "outputs = layers.Dense(10, activation=\"softmax\", name=\"predictions\")(x)\n",
        "model = keras.Model(inputs=inputs, outputs=outputs, name=\"mnist_model\")\n",
        "loss = keras.losses.SparseCategoricalCrossentropy(from_logits=True)\n",
        "#def loss(true, pred):\n",
        "#    val = 0.\n",
        "#    for i in range(len(true)):\n",
        "#        val -= np.log(pred[i, true[i]])\n",
        "#    return val / len(true)\n",
        "model.summary()"
      ]
    },
    {
      "cell_type": "code",
      "execution_count": 267,
      "id": "b18b6bdb",
      "metadata": {
        "colab": {
          "base_uri": "https://localhost:8080/"
        },
        "id": "b18b6bdb",
        "outputId": "a248edd1-9d5b-40c5-a1ac-9839a6acd0e9"
      },
      "outputs": [
        {
          "output_type": "execute_result",
          "data": {
            "text/plain": [
              "array([1, 1, 9, 1, 1, 1, 4, 1, 9, 1, 1, 9, 1, 1, 1, 1, 1, 1, 3, 1, 1, 1,\n",
              "       1, 1, 1, 1, 1, 1, 1, 1, 1, 1, 1, 1, 1, 1, 1, 1, 1, 1, 1, 1, 1, 1,\n",
              "       1, 1, 1, 1, 1, 9, 1, 1, 1, 1, 1, 1, 1, 1, 1, 1, 1, 1, 1, 1, 1, 9,\n",
              "       1, 1, 1, 1, 1, 1, 1, 1, 1, 1, 1, 1, 1, 1, 1, 1, 1, 1, 1, 1, 1, 1,\n",
              "       1, 1, 1, 1, 1, 1, 1, 1, 1, 1, 1, 1])"
            ]
          },
          "metadata": {},
          "execution_count": 267
        }
      ],
      "source": [
        "# untrained model\n",
        "logits = model(x_train, training=True)\n",
        "np.argmax(logits, 1)[0:100]"
      ]
    },
    {
      "cell_type": "code",
      "execution_count": 268,
      "id": "35d74f67",
      "metadata": {
        "colab": {
          "base_uri": "https://localhost:8080/"
        },
        "id": "35d74f67",
        "outputId": "14bd7eb5-87a9-41c2-dabe-3381cc19f98c"
      },
      "outputs": [
        {
          "output_type": "execute_result",
          "data": {
            "text/plain": [
              "array([5, 0, 4, 1, 9, 2, 1, 3, 1, 4, 3, 5, 3, 6, 1, 7, 2, 8, 6, 9, 4, 0,\n",
              "       9, 1, 1, 2, 4, 3, 2, 7, 3, 8, 6, 9, 0, 5, 6, 0, 7, 6, 1, 8, 7, 9,\n",
              "       3, 9, 8, 5, 9, 3, 3, 0, 7, 4, 9, 8, 0, 9, 4, 1, 4, 4, 6, 0, 4, 5,\n",
              "       6, 1, 0, 0, 1, 7, 1, 6, 3, 0, 2, 1, 1, 7, 9, 0, 2, 6, 7, 8, 3, 9,\n",
              "       0, 4, 6, 7, 4, 6, 8, 0, 7, 8, 3, 1], dtype=uint8)"
            ]
          },
          "metadata": {},
          "execution_count": 268
        }
      ],
      "source": [
        "# what we would like to get\n",
        "y_train[0:100]"
      ]
    },
    {
      "cell_type": "code",
      "execution_count": 269,
      "id": "4c0073e2",
      "metadata": {
        "colab": {
          "base_uri": "https://localhost:8080/"
        },
        "id": "4c0073e2",
        "outputId": "3fd2cd68-d7be-4c00-f476-1b0ba1d569ce"
      },
      "outputs": [
        {
          "output_type": "stream",
          "name": "stderr",
          "text": [
            "/usr/local/lib/python3.10/dist-packages/keras/src/backend.py:5727: UserWarning: \"`sparse_categorical_crossentropy` received `from_logits=True`, but the `output` argument was produced by a Softmax activation and thus does not represent logits. Was this intended?\n",
            "  output, from_logits = _get_logits(\n"
          ]
        },
        {
          "output_type": "execute_result",
          "data": {
            "text/plain": [
              "2.407761"
            ]
          },
          "metadata": {},
          "execution_count": 269
        }
      ],
      "source": [
        "## Computing a stochastic gradient\n",
        "\n",
        "# Source: https://keras.io/guides/writing_a_training_loop_from_scratch/\n",
        "\n",
        "# Example of gradient computation using automatic differentiation\n",
        "\n",
        "x_train_batch = x_train[:8]\n",
        "y_train_batch = y_train[:8]\n",
        "with tf.GradientTape() as tape:\n",
        "        # Run the forward pass of the layer.\n",
        "        # The operations that the layer applies\n",
        "        # to its inputs are going to be recorded\n",
        "        # on the GradientTape.\n",
        "        logits = model(x_train_batch)  # Logits for this minibatch\n",
        "\n",
        "        # Compute the loss value for this minibatch.\n",
        "        loss_value = loss(y_train_batch, logits)\n",
        "\n",
        "# Use the gradient tape to automatically retrieve\n",
        "# the gradients of the trainable variables with respect to the loss.\n",
        "grad = tape.gradient(loss_value, model.trainable_weights)\n",
        "\n",
        "## Updating weights\n",
        "\n",
        "def update_weights(model, update):\n",
        "    new_weights = model.trainable_weights.copy()\n",
        "    for i in range(len(new_weights)):\n",
        "        new_weights[i] = new_weights[i] + update[i]\n",
        "    model.set_weights(new_weights)\n",
        "\n",
        "\n",
        "## Evaluate model\n",
        "samples_for_evaluation = np.random.randint(0, 10000, 1000)\n",
        "logits = model(x_train[samples_for_evaluation])\n",
        "loss(y_train[samples_for_evaluation], logits).numpy()\n",
        ""
      ]
    },
    {
      "cell_type": "code",
      "source": [
        "answer = np.argmax(logits, 1)\n",
        "np.mean(answer == y_train[samples_for_evaluation])"
      ],
      "metadata": {
        "colab": {
          "base_uri": "https://localhost:8080/"
        },
        "id": "Qvia0JQOeaOA",
        "outputId": "4fc08d5b-27b1-4ddb-84d1-9f6cc9889cfa"
      },
      "id": "Qvia0JQOeaOA",
      "execution_count": 270,
      "outputs": [
        {
          "output_type": "execute_result",
          "data": {
            "text/plain": [
              "0.071"
            ]
          },
          "metadata": {},
          "execution_count": 270
        }
      ]
    },
    {
      "cell_type": "code",
      "execution_count": 275,
      "id": "c5a9ead7",
      "metadata": {
        "scrolled": true,
        "id": "c5a9ead7"
      },
      "outputs": [],
      "source": [
        "# Stochastic gradient algorithm\n",
        "\n",
        "class multinomial_logisitic_regression():\n",
        "    def __init__(\n",
        "        self,\n",
        "        high: int = 28,\n",
        "        width: int = 28,\n",
        "        bias: list = True,\n",
        "        lr : float = 2e-2,\n",
        "        alpha: float = 5e-1,\n",
        "        nb_classes : int = 9,\n",
        "\n",
        "    ) -> None:\n",
        "        # assert isinstance(hidden_sizes, list)\n",
        "        # super().__init__()\n",
        "        self.width = width\n",
        "        self.high = high\n",
        "        self.bias = bias\n",
        "        self.lr = lr\n",
        "        self.alpha = alpha\n",
        "        self.nb_classes = nb_classes\n",
        "        self.bias_weight = np.zeros((self.nb_classes, 1))\n",
        "        # self.decoder = FullyConnectedMLP(n_latent, hidden_sizes, n_out)\n",
        "\n",
        "    def initialize_weights(self):\n",
        "        self.weights = np.array((self.nb_classes, self.high * self.width))\n",
        "        if self.bias == True:\n",
        "            self.bias_weight = np.zeros((self.nb_classes, 1))\n",
        "            self.weights = np.ones((self.high * self.width + self.bias, self.nb_classes)) / 1#0 #np.ones((self.nb_classes, self.high * self.width + self.bias)) / 10\n",
        "        return self.weights\n",
        "\n",
        "    def F(self, x_batch, y_batch, weights = None, bias_weight = None):\n",
        "        if weights is None:\n",
        "            weights = self.weights\n",
        "        if bias_weight is None:\n",
        "            bias_weight = self.bias_weight\n",
        "\n",
        "        # weights = weights.reshape((self.nb_classes, self.width * self.high,))\n",
        "        # weights_extracted = np.hstack((bias_weight, weights))\n",
        "        # weights_extracted = weights.reshape((self.nb_classes, self.width * self.high,))\n",
        "        x_batch_extracted = np.hstack((np.ones((x_batch.shape[0],1)), x_batch))\n",
        "        linear_prediction = x_batch_extracted @ weights # (batch_size, number_of_classes)\n",
        "        first_term = logsumexp(linear_prediction, axis = -1)\n",
        "        # print(f'y_batch = {y_batch}')\n",
        "\n",
        "        # print(f'first_term = {first_term}')\n",
        "        # print(f'linear_prediction = {linear_prediction}')\n",
        "        second_term = y_batch @ linear_prediction.T #np.sum(y_batch * linear_prediction, axis=0)\n",
        "        average = np.mean(first_term - second_term)\n",
        "        # print(f'second_term = {second_term}')\n",
        "        squared_norm = (weights[:,0:] ** 2).sum() # Not sure if we sould include the bias!!!!!!!!!!!!!!!!!!!!!!!!!\n",
        "        # print(f'squared_norm = {squared_norm}')\n",
        "        # print(f'average = {average}')\n",
        "        # print(f'self.alpha = {self.alpha}')\n",
        "        return average + self.alpha * squared_norm / 2\n",
        "\n",
        "    def compute_gradient(self, x_batch, y_batch, weights = None, bias_weight = None):\n",
        "        if weights is None:\n",
        "            weights = self.weights\n",
        "        if bias_weight is None:\n",
        "            bias_weight = self.bias_weight\n",
        "\n",
        "        # weights = weights.reshape((self.nb_classes, self.width * self.high,))\n",
        "        # weights_extracted = np.hstack((bias_weight, weights))\n",
        "        # weights_extracted = weights.reshape((self.nb_classes, self.width * self.high,))\n",
        "        x_batch_extracted = np.hstack((np.ones((x_batch.shape[0],1)), x_batch))\n",
        "        linear_prediction = x_batch_extracted @ weights\n",
        "        first_term = x_batch_extracted.T @ softmax(linear_prediction, axis = -1) / len(y_batch)\n",
        "        second_term = x_batch_extracted.T @ y_batch\n",
        "        # print(f'first_term = {first_term}')\n",
        "        # print(f'second_term = {second_term}')\n",
        "        return first_term - second_term + self.alpha * weights\n",
        "\n",
        "    def gradient_descent_step(self, x_batch, y_batch, lr = None, max_iter = 1, tol = 1e-4): # don't change params! Performs one step of simple GD\n",
        "        \"\"\"\n",
        "        x_batch - of shape (batch_size, dimensionality)\n",
        "        y_batch - of shape (batch_size, number_of_classes)\n",
        "\n",
        "        returns: new weights after one step of gradient descent, shape is (dimensionality, number_of_classes)\n",
        "        \"\"\"\n",
        "        if lr is None:\n",
        "            lr = self.lr\n",
        "        w_old = self.weights\n",
        "        for i in range(max_iter):\n",
        "            gradient = self.compute_gradient(x_batch, y_batch, weights = w_old)\n",
        "            w_new = w_old - lr * gradient\n",
        "            if np.sum(np.abs(w_new - w_old)) < tol:\n",
        "                break\n",
        "            w_old = w_new\n",
        "            # print(self.F(x_batch, y_batch, weights = w_old))\n",
        "        return w_new\n",
        "\n",
        "    def SGD(self, x_train, y_train, x_test = None, y_test = None, lr = None, max_iter = 200, batch_size = 1):\n",
        "        \"\"\"\n",
        "        x_train - of shape (batch_size, dimensionality)\n",
        "        y_train - of shape (batch_size, number_of_classes)\n",
        "\n",
        "        performs max_iter steps of SGD with batch_size; updates self.weights online\n",
        "\n",
        "        !!!!!!!!Constant learning rate!!!!!!!!!!!!\n",
        "\n",
        "        returns: new weights after one step of gradient descent, shape is (dimensionality, number_of_classes)\n",
        "        \"\"\"\n",
        "        batch_idx = np.random.randint(0, len(y_train), batch_size)\n",
        "        x_batch, y_batch = x_train[batch_idx, :], y_train[batch_idx, :]\n",
        "        for i in range(max_iter):\n",
        "            batch_idx = np.random.randint(0, len(y_train), batch_size)\n",
        "            x_batch, y_batch = x_train[batch_idx, :], y_train[batch_idx, :]\n",
        "            w_new = self.gradient_descent_step(x_batch, y_batch, lr)\n",
        "            self.weights = w_new\n",
        "\n",
        "    def SGD_with_plotting(self, x_train, y_train, x_test, y_test, lr = None, max_iter = 200, batch_size = 1):\n",
        "        \"\"\"\n",
        "        x_train - of shape (batch_size, dimensionality)\n",
        "        y_train - of shape (batch_size, number_of_classes)\n",
        "\n",
        "        performs max_iter steps of SGD with batch_size; updates self.weights online; prints the plot of F(test)\n",
        "\n",
        "        !!!!!!!!Constant learning rate!!!!!!!!!!!!\n",
        "\n",
        "        returns: new weights after one step of gradient descent, shape is (dimensionality, number_of_classes)\n",
        "        \"\"\"\n",
        "\n",
        "        batch_idx = np.random.randint(0, len(y_train), batch_size)\n",
        "        x_batch, y_batch = x_train[batch_idx, :], y_train[batch_idx, :]\n",
        "        objective_scores = []\n",
        "        for i in range(max_iter):\n",
        "            batch_idx = np.random.randint(0, len(y_train), batch_size)\n",
        "            x_batch, y_batch = x_train[batch_idx, :], y_train[batch_idx, :]\n",
        "            w_new = self.gradient_descent_step(x_batch, y_batch, lr)\n",
        "            self.weights = w_new\n",
        "            print(self.F(x_test, y_test))\n",
        "            objective_scores.append(self.F(x_test, y_test))\n",
        "        plt.plot(objective_scores)\n",
        "\n",
        "    def compute_loss(self, x, y):\n",
        "        x_extracted = np.hstack((np.ones((x.shape[0],1)), x))\n",
        "        linear_prediction = x_extracted @ self.weights\n",
        "        logits = linear_prediction\n",
        "        answer = np.argmax(logits, 1)\n",
        "        return np.mean(answer == y)\n",
        "    def predict(self, x):\n",
        "        x_extracted = np.hstack((np.ones((x.shape[0],1)), x))\n",
        "        linear_prediction = x_extracted @ self.weights\n",
        "        logits = linear_prediction\n",
        "        answer = np.argmax(logits, 1)\n",
        "        return answer"
      ]
    },
    {
      "cell_type": "code",
      "source": [
        "y_train_for_model = np.zeros((len(y_train), 10))\n",
        "y_test_for_model = np.zeros((len(y_test), 10))\n",
        "\n",
        "y_train_for_model[np.arange(y_train.size), y_train] = 1\n",
        "y_test_for_model[np.arange(y_test.size), y_test] = 1\n",
        "\n",
        "# y_train[:5]\n",
        "# y_train_for_model[:5]"
      ],
      "metadata": {
        "id": "-ij303o-TQUU"
      },
      "id": "-ij303o-TQUU",
      "execution_count": 276,
      "outputs": []
    },
    {
      "cell_type": "code",
      "source": [
        "model = multinomial_logisitic_regression(28,28, True, 2e-1,5e-1,10)\n",
        "model.initialize_weights()\n",
        "model.F(x_test[:100, :], y_test_for_model[:100])"
      ],
      "metadata": {
        "colab": {
          "base_uri": "https://localhost:8080/"
        },
        "id": "fCqDGUUG7siY",
        "outputId": "98d756dc-2728-48bd-aeaf-9d8f129541aa"
      },
      "id": "fCqDGUUG7siY",
      "execution_count": 277,
      "outputs": [
        {
          "output_type": "execute_result",
          "data": {
            "text/plain": [
              "1964.8025850929941"
            ]
          },
          "metadata": {},
          "execution_count": 277
        }
      ]
    },
    {
      "cell_type": "code",
      "source": [
        "model.compute_loss(x_test[:100, :], y_test[:100])"
      ],
      "metadata": {
        "colab": {
          "base_uri": "https://localhost:8080/"
        },
        "id": "U4WVT4rIZwP-",
        "outputId": "7ca0bd1f-5b5b-4e61-b224-669e7c8523ed"
      },
      "id": "U4WVT4rIZwP-",
      "execution_count": 278,
      "outputs": [
        {
          "output_type": "execute_result",
          "data": {
            "text/plain": [
              "0.08"
            ]
          },
          "metadata": {},
          "execution_count": 278
        }
      ]
    },
    {
      "cell_type": "code",
      "source": [
        "model.SGD_with_plotting(x_train, y_train_for_model, x_test[:100, :], y_test_for_model[:100, :], lr = 1e-2, max_iter = 280, batch_size = 1 )"
      ],
      "metadata": {
        "colab": {
          "base_uri": "https://localhost:8080/",
          "height": 1000
        },
        "id": "eTOnAmBJD-bW",
        "outputId": "5ea26b4e-028f-4e02-c67e-939b95dd9a8a"
      },
      "id": "eTOnAmBJD-bW",
      "execution_count": 279,
      "outputs": [
        {
          "output_type": "stream",
          "name": "stdout",
          "text": [
            "1945.2334670068735\n",
            "1925.8704822786067\n",
            "1906.6836757589565\n",
            "1887.7099878760246\n",
            "1868.9397593785263\n",
            "1850.3262148036806\n",
            "1831.8926090253094\n",
            "1813.6264827326602\n",
            "1795.543899370815\n",
            "1777.6601537947713\n",
            "1759.9311334275433\n",
            "1742.3912855055596\n",
            "1725.0525352553102\n",
            "1707.8750326391423\n",
            "1690.9020992663488\n",
            "1674.0603204505137\n",
            "1657.3667544805119\n",
            "1640.864518106192\n",
            "1624.5246164560822\n",
            "1608.3672265304178\n",
            "1592.3288109503003\n",
            "1576.4869820751533\n",
            "1560.7741628061292\n",
            "1545.2127967067595\n",
            "1529.8040128990922\n",
            "1514.567988495191\n",
            "1499.4838203107804\n",
            "1484.5390282979677\n",
            "1469.7728848991214\n",
            "1455.1183925749817\n",
            "1440.6445788661517\n",
            "1426.3124276620872\n",
            "1412.1147366895032\n",
            "1398.0422060846552\n",
            "1384.1418445943302\n",
            "1370.381238824658\n",
            "1356.7608046603334\n",
            "1343.24680988758\n",
            "1329.863506201059\n",
            "1316.6203850074685\n",
            "1303.5192370086713\n",
            "1290.573219022635\n",
            "1277.7791096728183\n",
            "1265.034352743188\n",
            "1252.4118565589406\n",
            "1239.9341902793774\n",
            "1227.5864764030346\n",
            "1215.3593875200484\n",
            "1203.259127736944\n",
            "1191.2831701509394\n",
            "1179.4301653934906\n",
            "1167.7148318884213\n",
            "1156.1012786861177\n",
            "1144.5902819664575\n",
            "1133.1810013730342\n",
            "1121.918099932746\n",
            "1110.745841971793\n",
            "1099.675518846344\n",
            "1088.7297384972462\n",
            "1077.9006915056452\n",
            "1067.1729183736672\n",
            "1056.560300496024\n",
            "1046.0527650310753\n",
            "1035.642906876357\n",
            "1025.3664429853025\n",
            "1015.1386768661993\n",
            "1005.0195504335119\n",
            "995.032829681066\n",
            "985.1253454824499\n",
            "975.3546159669722\n",
            "965.6357693697246\n",
            "956.0263259595171\n",
            "946.5172512302366\n",
            "937.1127912684854\n",
            "927.808727256833\n",
            "918.5710495701936\n",
            "909.4463362138142\n",
            "900.4055495724934\n",
            "891.4434835397435\n",
            "882.5788325143159\n",
            "873.7879433299511\n",
            "865.1029684959107\n",
            "856.5327356418618\n",
            "848.0007677617261\n",
            "839.5619039774223\n",
            "831.2312391920474\n",
            "822.9513008657161\n",
            "814.7931364362254\n",
            "806.6961356329049\n",
            "798.6898398393123\n",
            "790.7739848273736\n",
            "782.9089258192818\n",
            "775.1138894117053\n",
            "767.3902242348782\n",
            "759.7600659029465\n",
            "752.2146761095302\n",
            "744.7574356141246\n",
            "737.3356010596007\n",
            "729.9796233085923\n",
            "722.7104019759943\n",
            "715.5387805937957\n",
            "708.4432162612632\n",
            "701.4110178028354\n",
            "694.4630251506067\n",
            "687.5707513503911\n",
            "680.7279757767262\n",
            "673.9408872216782\n",
            "667.2579753151522\n",
            "660.6154808413474\n",
            "654.0790840461652\n",
            "647.5792758136084\n",
            "641.1404289611735\n",
            "634.760510285484\n",
            "628.4419987340732\n",
            "622.1954772402165\n",
            "616.0258901865711\n",
            "609.9326976385623\n",
            "603.8754914940137\n",
            "597.8746433086874\n",
            "591.9300477423869\n",
            "586.0644626577936\n",
            "580.2484822369042\n",
            "574.5268989722426\n",
            "568.819879036169\n",
            "563.1876719033592\n",
            "557.6035362435368\n",
            "552.1115690978031\n",
            "546.623253895069\n",
            "541.217051573815\n",
            "535.833803640402\n",
            "530.4963397287107\n",
            "525.2407265677135\n",
            "520.0202019710327\n",
            "514.845138472992\n",
            "509.7367709720624\n",
            "504.6919940520384\n",
            "499.6597399366302\n",
            "494.70136065680447\n",
            "489.7840799419383\n",
            "484.92087694818287\n",
            "480.10366245964764\n",
            "475.3575659209449\n",
            "470.6541139346107\n",
            "466.008060417559\n",
            "461.3883891864875\n",
            "456.7987493195962\n",
            "452.25657431857854\n",
            "447.7878646167626\n",
            "443.35322296939665\n",
            "438.9705280779304\n",
            "434.6376907994385\n",
            "430.332467239917\n",
            "426.0626012744314\n",
            "421.82772319706964\n",
            "417.63949620153744\n",
            "413.510285093938\n",
            "409.413105863028\n",
            "405.38207583361145\n",
            "401.37621138139906\n",
            "397.43690881550316\n",
            "393.5012349552227\n",
            "389.58907211783696\n",
            "385.73213709516125\n",
            "381.90753636555104\n",
            "378.141279259914\n",
            "374.39936974865327\n",
            "370.6800908411199\n",
            "366.9936668877821\n",
            "363.3563194062181\n",
            "359.74874211919905\n",
            "356.19000482385945\n",
            "352.6657765565949\n",
            "349.1824339290253\n",
            "345.7193632510246\n",
            "342.2854738082419\n",
            "338.89833875989945\n",
            "335.54519821944905\n",
            "332.25026144709307\n",
            "328.9607794419844\n",
            "325.7291587446669\n",
            "322.49834496355993\n",
            "319.3004448800752\n",
            "316.157687455131\n",
            "313.0666218262785\n",
            "309.97299330378723\n",
            "306.90630175579895\n",
            "303.87056171241414\n",
            "300.8608935666485\n",
            "297.917202100248\n",
            "294.97910612838103\n",
            "292.0885148938859\n",
            "289.2107248283941\n",
            "286.38046620357113\n",
            "283.54286903541134\n",
            "280.7693166849948\n",
            "278.02832650102937\n",
            "275.2779866953396\n",
            "272.55470465353164\n",
            "269.86244805509773\n",
            "267.23775337464167\n",
            "264.6346921057916\n",
            "261.9471377995787\n",
            "259.37506966123766\n",
            "256.8060227237241\n",
            "254.24301400890084\n",
            "251.72730865611487\n",
            "249.2320892307046\n",
            "246.76835462724617\n",
            "244.36552001054596\n",
            "241.94335745969983\n",
            "239.52642853569984\n",
            "237.16980755163792\n",
            "234.82805915210466\n",
            "232.54715584301104\n",
            "230.25662168234234\n",
            "228.0005332835946\n",
            "225.73872211663758\n",
            "223.54484785009507\n",
            "221.33416200047813\n",
            "219.15197591632358\n",
            "216.97472231830733\n",
            "214.83426623754323\n",
            "212.68621033856547\n",
            "210.60286154311572\n",
            "208.55148385103936\n",
            "206.50973724563545\n",
            "204.45448491976606\n",
            "202.4476725599959\n",
            "200.46205856342414\n",
            "198.48578505732408\n",
            "196.5537079589978\n",
            "194.60124191058577\n",
            "192.68495315549896\n",
            "190.78679299006836\n",
            "188.92704501605638\n",
            "187.10708467879465\n",
            "185.30271128268166\n",
            "183.46696731906064\n",
            "181.66338606730804\n",
            "179.89737794538\n",
            "178.18706728949377\n",
            "176.41462426994045\n",
            "174.71327541680793\n",
            "172.98080958609705\n",
            "171.26439473559006\n",
            "169.6030208139965\n",
            "167.92881174872412\n",
            "166.28446273549199\n",
            "164.63403449229182\n",
            "163.00698334007362\n",
            "161.39850146381866\n",
            "159.8284717221076\n",
            "158.27104611366894\n",
            "156.71805258016107\n",
            "155.1715879455972\n",
            "153.63725898608973\n",
            "152.1437034252639\n",
            "150.64802487316177\n",
            "149.16021065707494\n",
            "147.67624675041134\n",
            "146.24567797034618\n",
            "144.8351315124216\n",
            "143.39940501027274\n",
            "141.97366577824903\n",
            "140.57221492397417\n",
            "139.2151529745293\n",
            "137.87048482714815\n",
            "136.52266903375994\n",
            "135.1748965483488\n",
            "133.8424284098807\n",
            "132.5375489645007\n",
            "131.25104224933298\n",
            "129.9631147317591\n",
            "128.68726670772958\n",
            "127.43153154701304\n",
            "126.20078756982488\n",
            "124.96904021088741\n",
            "123.75117937832663\n",
            "122.55793511198442\n",
            "121.36512380924019\n"
          ]
        },
        {
          "output_type": "display_data",
          "data": {
            "text/plain": [
              "<Figure size 640x480 with 1 Axes>"
            ],
            "image/png": "[encoded data removed]"
          },
          "metadata": {}
        }
      ]
    },
    {
      "cell_type": "code",
      "source": [
        "model.F(x_test[:100, :], y_test_for_model[:100])"
      ],
      "metadata": {
        "colab": {
          "base_uri": "https://localhost:8080/"
        },
        "id": "bv-pNVJ-TFov",
        "outputId": "476808e8-5188-4fa1-b06c-f875b38a4d48"
      },
      "id": "bv-pNVJ-TFov",
      "execution_count": 280,
      "outputs": [
        {
          "output_type": "execute_result",
          "data": {
            "text/plain": [
              "121.36512380924019"
            ]
          },
          "metadata": {},
          "execution_count": 280
        }
      ]
    },
    {
      "cell_type": "code",
      "source": [
        "model.compute_loss(x_test[:100, :], y_test[:100])"
      ],
      "metadata": {
        "colab": {
          "base_uri": "https://localhost:8080/"
        },
        "id": "abLEkaw37ovH",
        "outputId": "710c5103-ebe6-402c-a401-0a9f1510aaed"
      },
      "id": "abLEkaw37ovH",
      "execution_count": 281,
      "outputs": [
        {
          "output_type": "execute_result",
          "data": {
            "text/plain": [
              "0.72"
            ]
          },
          "metadata": {},
          "execution_count": 281
        }
      ]
    },
    {
      "cell_type": "code",
      "source": [
        "model.predict(x_test[:10,:])"
      ],
      "metadata": {
        "colab": {
          "base_uri": "https://localhost:8080/"
        },
        "id": "ZA8L8FEP5UgU",
        "outputId": "bcee8830-3d6f-4203-c93e-be137464372b"
      },
      "id": "ZA8L8FEP5UgU",
      "execution_count": 282,
      "outputs": [
        {
          "output_type": "execute_result",
          "data": {
            "text/plain": [
              "array([7, 2, 1, 0, 4, 1, 4, 9, 4, 9])"
            ]
          },
          "metadata": {},
          "execution_count": 282
        }
      ]
    },
    {
      "cell_type": "code",
      "source": [
        "y_test[:10]"
      ],
      "metadata": {
        "colab": {
          "base_uri": "https://localhost:8080/"
        },
        "id": "naATzPtmbv_X",
        "outputId": "bd10e4c3-12e9-488d-a36c-4009bfecc8ad"
      },
      "id": "naATzPtmbv_X",
      "execution_count": 283,
      "outputs": [
        {
          "output_type": "execute_result",
          "data": {
            "text/plain": [
              "array([7, 2, 1, 0, 4, 1, 4, 9, 5, 9], dtype=uint8)"
            ]
          },
          "metadata": {},
          "execution_count": 283
        }
      ]
    },
    {
      "cell_type": "code",
      "source": [
        "i = 8\n",
        "print(f'prediction of the model is {model.predict(x_test[i:i+2,:])[0]}')\n",
        "print(f'correct answer is {y_test[i]}')\n",
        "plt.imshow(test_data[0][i], cmap='gray')"
      ],
      "metadata": {
        "colab": {
          "base_uri": "https://localhost:8080/",
          "height": 482
        },
        "id": "s0Vjo4LNb6hz",
        "outputId": "1594dc66-0431-4762-c91d-bf6248550a21"
      },
      "id": "s0Vjo4LNb6hz",
      "execution_count": 284,
      "outputs": [
        {
          "output_type": "stream",
          "name": "stdout",
          "text": [
            "prediction of the model is 4\n",
            "correct answer is 5\n"
          ]
        },
        {
          "output_type": "execute_result",
          "data": {
            "text/plain": [
              "<matplotlib.image.AxesImage at 0x7dbb09865720>"
            ]
          },
          "metadata": {},
          "execution_count": 284
        },
        {
          "output_type": "display_data",
          "data": {
            "text/plain": [
              "<Figure size 640x480 with 1 Axes>"
            ],
            "image/png": "[encoded data removed]"
          },
          "metadata": {}
        }
      ]
    },
    {
      "cell_type": "code",
      "source": [],
      "metadata": {
        "id": "6hgufy-QfZ_a"
      },
      "id": "6hgufy-QfZ_a",
      "execution_count": null,
      "outputs": []
    }
  ],
  "metadata": {
    "kernelspec": {
      "display_name": "Python 3 (ipykernel)",
      "language": "python",
      "name": "python3"
    },
    "language_info": {
      "codemirror_mode": {
        "name": "ipython",
        "version": 3
      },
      "file_extension": ".py",
      "mimetype": "text/x-python",
      "name": "python",
      "nbconvert_exporter": "python",
      "pygments_lexer": "ipython3",
      "version": "3.10.10"
    },
    "colab": {
      "provenance": []
    }
  },
  "nbformat": 4,
  "nbformat_minor": 5
}